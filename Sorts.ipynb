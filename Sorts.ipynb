def insertionSort(A):

    for i in range(1,len(A)):
        X=A[i]
        Y=i
        while Y>0 and A[Y-1]>X:
            A[Y]=A[Y-1]
            Y=Y- 1
        A[Y]=X


def selectionSort(A):
   for i in range(len(A)-1,0,-1):
       p=0
       for j in range(1,i+1):
           if A[j]>A[p]:
               p=j
       temp=A[i]
       A[i]=A[p]
       A[p]=temp

def bubbleSort(A):
    for i in range(len(A)-1,0,-1):
        for j in range(i):
            if A[j]>A[j+1]:
                temp=A[j]
                A[j]=A[j+1]
                A[j+1]=temp



def mergeSort(A):
    if len(A)>1:
        mid=len(A) // 2
        lh=A[:mid]
        rh=A[mid:]
        mergeSort(lh)
        mergeSort(rh)
        i=j=k=0  

        while i<len(lh)and j<len(rh):
            if lh[i]<rh[j]:
                A[k]=lh[i];
                i=i+1;
            else:
                A[k]=rh[j];
                j=j+1;
            k=k+1

        while i<len(lh):
            A[k]=lh[i]
            i=i+1
            k=k+1

        while j<len(rh):
            A[k]=rh[j]
            j=j+1
            k=k+1

def countingSort(A):
    ln=len(A);
    X = [0] * ln
    Y = [0] * 10000
    for i in range(0, ln):
        Y[A[i]] += 1;
    for i in range(1, 10000):
        Y[i]+=Y[i-1]
    i=ln-1
    while i>=0:
        X[Y[A[i]]-1]=A[i]
        Y[A[i]]-=1
        i=i-1
    for i in range(0,ln):
        A[i]=X[i]

A = [2, 12, 21, 2, 50, 675, 91]
insertionSort(A)
print(A)